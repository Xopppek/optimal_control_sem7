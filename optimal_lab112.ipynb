{
 "cells": [
  {
   "cell_type": "code",
   "execution_count": 1,
   "metadata": {},
   "outputs": [],
   "source": [
    "import numpy as np\n",
    "import sympy as sp\n",
    "from sympy import latex\n",
    "import re\n",
    "sp.init_printing() \n",
    "\n",
    "def latex_to_sympy_matrix(latex_str):\n",
    "    pattern = r'\\\\begin\\{pmatrix\\}(.*?)\\\\end\\{pmatrix\\}'\n",
    "    match = re.search(pattern, latex_str, re.DOTALL)\n",
    "    if not match:\n",
    "        raise ValueError(\"Не удалось найти матрицу в формате pmatrix.\")\n",
    "    \n",
    "    matrix_content = match.group(1)\n",
    "    \n",
    "    rows = re.split(r'\\\\\\\\', matrix_content)\n",
    "    \n",
    "    matrix = []\n",
    "    for row in rows:\n",
    "        row = row.strip().replace('\\n', '')\n",
    "        if not row:\n",
    "            continue  \n",
    "        elements = row.split('&')\n",
    "        numeric_elements = [sp.sympify(elem.strip()) for elem in elements]\n",
    "        matrix.append(numeric_elements)\n",
    "    \n",
    "    return sp.Matrix(matrix)"
   ]
  },
  {
   "cell_type": "markdown",
   "metadata": {},
   "source": [
    "Задаем значения из своего варианта"
   ]
  },
  {
   "cell_type": "code",
   "execution_count": 2,
   "metadata": {},
   "outputs": [],
   "source": [
    "latex_A = r\"\"\"\n",
    "    \n",
    "    \n",
    "    \\begin{pmatrix}\n",
    "    -3 & 1 & -1\\\\-1 & 0 & 0\\\\2 & -2 & 4\\\\\n",
    "    \\end{pmatrix}\n",
    "  \n",
    "  \n",
    "\"\"\"\n",
    "\n",
    "latex_B = r\"\"\"\n",
    "    \n",
    "    \n",
    "    \\begin{pmatrix}\n",
    "    -1 & -1\\\\-2 & 3\\\\4 & 0\\\\\n",
    "    \\end{pmatrix}\n",
    "  \n",
    "  \n",
    "\"\"\"\n",
    "\n",
    "latex_lambd =r\"\"\"\n",
    "    \n",
    "    \n",
    "    \\begin{pmatrix}\n",
    "    -1\\\\-4\\\\-3\\\\\n",
    "    \\end{pmatrix}\n",
    "  \n",
    "  \n",
    "\"\"\"\n",
    "\n",
    "latex_r = r\"\"\"\n",
    "    \n",
    "   \n",
    "    \\begin{pmatrix}\n",
    "    3\\\\2\\\\\n",
    "    \\end{pmatrix}\n",
    "  \n",
    "  \n",
    "\"\"\"\n",
    "\n",
    "A = latex_to_sympy_matrix(latex_A)\n",
    "B = latex_to_sympy_matrix(latex_B)\n",
    "lambd = latex_to_sympy_matrix(latex_lambd)\n",
    "r = latex_to_sympy_matrix(latex_r)\n"
   ]
  },
  {
   "cell_type": "code",
   "execution_count": 3,
   "metadata": {},
   "outputs": [
    {
     "name": "stdout",
     "output_type": "stream",
     "text": [
      "Матрица управляемости:\n",
      "\\begin{pmatrix}-1 & -1 & -3 & 6 & -8 & -9\\\\-2 & 3 & 1 & 1 & 3 & -6\\\\4 & 0 & 18 & -8 & 64 & -22\\end{pmatrix}\n"
     ]
    },
    {
     "data": {
      "text/latex": [
       "$\\displaystyle \\left[\\begin{matrix}-1 & -1 & -3 & 6 & -8 & -9\\\\-2 & 3 & 1 & 1 & 3 & -6\\\\4 & 0 & 18 & -8 & 64 & -22\\end{matrix}\\right]$"
      ],
      "text/plain": [
       "⎡-1  -1  -3  6   -8  -9 ⎤\n",
       "⎢                       ⎥\n",
       "⎢-2  3   1   1   3   -6 ⎥\n",
       "⎢                       ⎥\n",
       "⎣4   0   18  -8  64  -22⎦"
      ]
     },
     "execution_count": 3,
     "metadata": {},
     "output_type": "execute_result"
    }
   ],
   "source": [
    "S = B.row_join(A @ B).row_join(A @ A @ B)\n",
    "print(\"Матрица управляемости:\")\n",
    "ans = latex(S)\n",
    "ans = ans.replace(\"matrix\",\"pmatrix\")\n",
    "ans = ans.replace('\\\\' + \"right]\", \"\")\n",
    "ans = ans.replace('\\\\' + \"left[\", \"\")\n",
    "print(ans)\n",
    "S"
   ]
  },
  {
   "cell_type": "markdown",
   "metadata": {},
   "source": [
    "Тут, вообще говоря, не совсем понятно, что имеется ввиду под определителем неквадратной матрицы... Судя по методичке и автотестам, определитель на первых трех столбцах..."
   ]
  },
  {
   "cell_type": "code",
   "execution_count": 4,
   "metadata": {},
   "outputs": [
    {
     "name": "stdout",
     "output_type": "stream",
     "text": [
      "Определитель матрицы управляемости det(S) =  -58\n",
      "Система управляема\n"
     ]
    }
   ],
   "source": [
    "detS = S[:, :3].det()\n",
    "print(\"Определитель матрицы управляемости det(S) = \", detS)\n",
    "print(\"Система управляема\") if detS != 0 else print(\"Система не управляема\")"
   ]
  },
  {
   "cell_type": "code",
   "execution_count": 5,
   "metadata": {},
   "outputs": [
    {
     "name": "stdout",
     "output_type": "stream",
     "text": [
      "s = 1\n",
      "Допускает скалярное управление\n"
     ]
    }
   ],
   "source": [
    "lam = sp.symbols('lambda')\n",
    "\n",
    "F = sp.Matrix([\n",
    "    [lam - 2, -1, -4],\n",
    "    [0, lam - 2, 3],\n",
    "    [0, 0, lam - 5]\n",
    "])\n",
    "\n",
    "def compute_D2(matrix):\n",
    "    minors_2x2 = []\n",
    "    n = matrix.shape[0]\n",
    "    \n",
    "    # Проходим по всем возможным подматрицам 2x2\n",
    "    for i in range(n):\n",
    "        for j in range(n):\n",
    "            submatrix = matrix.minor_submatrix(i, j)  # Удаляем i-ю строку и j-й столбец\n",
    "            if submatrix.shape == (2, 2):\n",
    "                minors_2x2.append(submatrix.det())  # Считаем определитель миноров 2-го порядка\n",
    "\n",
    "    # Находим НОД всех найденных определителей\n",
    "    D_2 = sp.gcd(minors_2x2)\n",
    "    return D_2\n",
    "\n",
    "D_3 = F.det()\n",
    "D_2 = compute_D2(F)\n",
    "D_1 = sp.gcd(list(F))\n",
    "D_0 = 1\n",
    "\n",
    "E_3 = D_3 / D_2\n",
    "E_2 = D_2 / D_1\n",
    "E_1 = D_1 / D_0\n",
    "\n",
    "def is_non_trivial(polynomial):\n",
    "    return polynomial != 1\n",
    "\n",
    "def minimal_control_dimension(E_3, E_2, E_1):\n",
    "    non_trivial_polynomials = [E_3, E_2, E_1]\n",
    "    s = sum(1 for poly in non_trivial_polynomials if is_non_trivial(poly))\n",
    "    return s\n",
    "\n",
    "s = minimal_control_dimension(E_3, E_2, E_1)\n",
    "\n",
    "print(f\"s = {s}\")\n",
    "if s == 1:\n",
    "    print(\"Допускает скалярное управление\")\n",
    "elif s == 0:\n",
    "    print(\"Система не управляема\")\n",
    "else:\n",
    "    print(\"Не допускает скалярное управление\")"
   ]
  },
  {
   "cell_type": "code",
   "execution_count": 6,
   "metadata": {},
   "outputs": [
    {
     "name": "stdout",
     "output_type": "stream",
     "text": [
      "Коэффициенты характеристического полинома разомкнутой системы:\n",
      "\\begin{pmatrix}-2\\\\-9\\\\-1\\end{pmatrix}\n"
     ]
    },
    {
     "data": {
      "text/latex": [
       "$\\displaystyle \\left[\\begin{matrix}-2\\\\-9\\\\-1\\end{matrix}\\right]$"
      ],
      "text/plain": [
       "⎡-2⎤\n",
       "⎢  ⎥\n",
       "⎢-9⎥\n",
       "⎢  ⎥\n",
       "⎣-1⎦"
      ]
     },
     "execution_count": 6,
     "metadata": {},
     "output_type": "execute_result"
    }
   ],
   "source": [
    "c = A.charpoly().all_coeffs()\n",
    "c = sp.Matrix(np.flip(c[1:]).reshape((-1, 1)))\n",
    "print(\"Коэффициенты характеристического полинома разомкнутой системы:\")\n",
    "ans = latex(c)\n",
    "ans = ans.replace(\"matrix\",\"pmatrix\")\n",
    "ans = ans.replace('\\\\' + \"right]\", \"\")\n",
    "ans = ans.replace('\\\\' + \"left[\", \"\")\n",
    "print(ans)\n",
    "c"
   ]
  },
  {
   "cell_type": "code",
   "execution_count": 7,
   "metadata": {},
   "outputs": [
    {
     "name": "stdout",
     "output_type": "stream",
     "text": [
      "Коэффициенты характеристического полинома замкнутой системы:\n",
      "\\begin{pmatrix}12\\\\19\\\\8\\end{pmatrix}\n"
     ]
    },
    {
     "data": {
      "text/latex": [
       "$\\displaystyle \\left[\\begin{matrix}12\\\\19\\\\8\\end{matrix}\\right]$"
      ],
      "text/plain": [
       "⎡12⎤\n",
       "⎢  ⎥\n",
       "⎢19⎥\n",
       "⎢  ⎥\n",
       "⎣8 ⎦"
      ]
     },
     "execution_count": 7,
     "metadata": {},
     "output_type": "execute_result"
    }
   ],
   "source": [
    "sigma_1 = np.sum(lambd)\n",
    "sigma_2 = lambd[0] * lambd[1] + lambd[0] * lambd[2] + lambd[1] * lambd[2]\n",
    "sigma_3 = np.prod(lambd)\n",
    "\n",
    "cx = np.zeros(3, dtype=int)\n",
    "cx[0] = sigma_3 * (-1) ** (3 - 0)\n",
    "cx[1] = sigma_2 * (-1) ** (3 - 1)\n",
    "cx[2] = sigma_1 * (-1) ** (3 - 2)\n",
    "\n",
    "cx = sp.Matrix(cx.reshape((-1, 1)))\n",
    "\n",
    "print(\"Коэффициенты характеристического полинома замкнутой системы:\")\n",
    "ans = latex(cx)\n",
    "ans = ans.replace(\"matrix\",\"pmatrix\")\n",
    "ans = ans.replace('\\\\' + \"right]\", \"\")\n",
    "ans = ans.replace('\\\\' + \"left[\", \"\")\n",
    "print(ans)\n",
    "cx"
   ]
  },
  {
   "cell_type": "code",
   "execution_count": 8,
   "metadata": {},
   "outputs": [
    {
     "name": "stdout",
     "output_type": "stream",
     "text": [
      "Матрица D^-1:\n",
      "\\begin{pmatrix}\\frac{30}{929} & - \\frac{113}{929} & \\frac{25}{1858}\\\\\\frac{48}{929} & \\frac{5}{929} & \\frac{20}{929}\\\\- \\frac{109}{929} & \\frac{8}{929} & \\frac{32}{929}\\end{pmatrix}\n"
     ]
    },
    {
     "data": {
      "text/latex": [
       "$\\displaystyle \\left[\\begin{matrix}\\frac{30}{929} & - \\frac{113}{929} & \\frac{25}{1858}\\\\\\frac{48}{929} & \\frac{5}{929} & \\frac{20}{929}\\\\- \\frac{109}{929} & \\frac{8}{929} & \\frac{32}{929}\\end{matrix}\\right]$"
      ],
      "text/plain": [
       "⎡  30   -113    25 ⎤\n",
       "⎢ ───   ─────  ────⎥\n",
       "⎢ 929    929   1858⎥\n",
       "⎢                  ⎥\n",
       "⎢  48           20 ⎥\n",
       "⎢ ───   5/929  ─── ⎥\n",
       "⎢ 929          929 ⎥\n",
       "⎢                  ⎥\n",
       "⎢-109           32 ⎥\n",
       "⎢─────  8/929  ─── ⎥\n",
       "⎣ 929          929 ⎦"
      ]
     },
     "execution_count": 8,
     "metadata": {},
     "output_type": "execute_result"
    }
   ],
   "source": [
    "b = B @ r\n",
    "\n",
    "d3 = b\n",
    "d2 = A @ d3 + c[2] * b\n",
    "d1 = A @ d2 + c[1] * b\n",
    "D = np.hstack((d1, d2, d3))\n",
    "D = sp.Matrix(D)\n",
    "D_1 = D.inv()\n",
    "print(\"Матрица D^-1:\")\n",
    "ans = latex(D_1)\n",
    "ans = ans.replace(\"matrix\",\"pmatrix\")\n",
    "ans = ans.replace('\\\\' + \"right]\", \"\")\n",
    "ans = ans.replace('\\\\' + \"left[\", \"\")\n",
    "print(ans)\n",
    "D_1"
   ]
  },
  {
   "cell_type": "code",
   "execution_count": 9,
   "metadata": {},
   "outputs": [
    {
     "name": "stdout",
     "output_type": "stream",
     "text": [
      "Скалярное управление:\n",
      "\\begin{pmatrix}- \\frac{783}{929} & \\frac{1370}{929} & - \\frac{1023}{929}\\end{pmatrix}\n"
     ]
    },
    {
     "data": {
      "text/latex": [
       "$\\displaystyle \\left[\\begin{matrix}- \\frac{783}{929} & \\frac{1370}{929} & - \\frac{1023}{929}\\end{matrix}\\right]$"
      ],
      "text/plain": [
       "⎡-783   1370  -1023 ⎤\n",
       "⎢─────  ────  ──────⎥\n",
       "⎣ 929   929    929  ⎦"
      ]
     },
     "execution_count": 9,
     "metadata": {},
     "output_type": "execute_result"
    }
   ],
   "source": [
    "v = (c - cx).T @ D_1 \n",
    "print(\"Скалярное управление:\")\n",
    "ans = latex(v)\n",
    "ans = ans.replace(\"matrix\",\"pmatrix\")\n",
    "ans = ans.replace('\\\\' + \"right]\", \"\")\n",
    "ans = ans.replace('\\\\' + \"left[\", \"\")\n",
    "print(ans)\n",
    "v"
   ]
  },
  {
   "cell_type": "code",
   "execution_count": 10,
   "metadata": {},
   "outputs": [
    {
     "name": "stdout",
     "output_type": "stream",
     "text": [
      "Векторное управление:\n",
      "\\begin{pmatrix}- \\frac{2349}{929} & \\frac{4110}{929} & - \\frac{3069}{929}\\\\- \\frac{1566}{929} & \\frac{2740}{929} & - \\frac{2046}{929}\\end{pmatrix}\n"
     ]
    },
    {
     "data": {
      "text/latex": [
       "$\\displaystyle \\left[\\begin{matrix}- \\frac{2349}{929} & \\frac{4110}{929} & - \\frac{3069}{929}\\\\- \\frac{1566}{929} & \\frac{2740}{929} & - \\frac{2046}{929}\\end{matrix}\\right]$"
      ],
      "text/plain": [
       "⎡-2349   4110  -3069 ⎤\n",
       "⎢──────  ────  ──────⎥\n",
       "⎢ 929    929    929  ⎥\n",
       "⎢                    ⎥\n",
       "⎢-1566   2740  -2046 ⎥\n",
       "⎢──────  ────  ──────⎥\n",
       "⎣ 929    929    929  ⎦"
      ]
     },
     "execution_count": 10,
     "metadata": {},
     "output_type": "execute_result"
    }
   ],
   "source": [
    "u = r @ v\n",
    "print(\"Векторное управление:\")\n",
    "ans = latex(u)\n",
    "ans = ans.replace(\"matrix\",\"pmatrix\")\n",
    "ans = ans.replace('\\\\' + \"right]\", \"\")\n",
    "ans = ans.replace('\\\\' + \"left[\", \"\")\n",
    "print(ans)\n",
    "u"
   ]
  }
 ],
 "metadata": {
  "kernelspec": {
   "display_name": "Python 3",
   "language": "python",
   "name": "python3"
  },
  "language_info": {
   "codemirror_mode": {
    "name": "ipython",
    "version": 3
   },
   "file_extension": ".py",
   "mimetype": "text/x-python",
   "name": "python",
   "nbconvert_exporter": "python",
   "pygments_lexer": "ipython3",
   "version": "3.12.2"
  }
 },
 "nbformat": 4,
 "nbformat_minor": 2
}
