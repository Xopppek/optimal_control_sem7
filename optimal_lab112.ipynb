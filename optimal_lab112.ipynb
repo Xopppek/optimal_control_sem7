{
 "cells": [
  {
   "cell_type": "code",
   "execution_count": 1,
   "metadata": {},
   "outputs": [],
   "source": [
    "import numpy as np\n",
    "import sympy as sp\n",
    "sp.init_printing() "
   ]
  },
  {
   "cell_type": "markdown",
   "metadata": {},
   "source": [
    "Задаем значения из своего варианта"
   ]
  },
  {
   "cell_type": "code",
   "execution_count": 2,
   "metadata": {},
   "outputs": [],
   "source": [
    "A = sp.Matrix(np.array([\n",
    "    [ 1,  5,  7],\n",
    "    [ 0,  3,  5],\n",
    "    [ 0,  2,  1],\n",
    "]))\n",
    "B = sp.Matrix(np.array([\n",
    "    [ 2, -3],\n",
    "    [ 1,  2],\n",
    "    [ 1,  1]\n",
    "]))\n",
    "lambd = sp.Matrix(np.array([\n",
    "    [-3],\n",
    "    [-1],\n",
    "    [-3],\n",
    "]))\n",
    "r = sp.Matrix([\n",
    "    [ 2],\n",
    "    [ 3],\n",
    "])"
   ]
  },
  {
   "cell_type": "code",
   "execution_count": 3,
   "metadata": {},
   "outputs": [
    {
     "name": "stdout",
     "output_type": "stream",
     "text": [
      "Матрица управляемости:\n"
     ]
    },
    {
     "data": {
      "text/latex": [
       "$\\displaystyle \\left[\\begin{matrix}2 & -3 & 14 & 14 & 75 & 104\\\\1 & 2 & 8 & 11 & 39 & 58\\\\1 & 1 & 3 & 5 & 19 & 27\\end{matrix}\\right]$"
      ],
      "text/plain": [
       "⎡2  -3  14  14  75  104⎤\n",
       "⎢                      ⎥\n",
       "⎢1  2   8   11  39  58 ⎥\n",
       "⎢                      ⎥\n",
       "⎣1  1   3   5   19  27 ⎦"
      ]
     },
     "execution_count": 3,
     "metadata": {},
     "output_type": "execute_result"
    }
   ],
   "source": [
    "S = B.row_join(A @ B).row_join(A @ A @ B)\n",
    "print(\"Матрица управляемости:\")\n",
    "S"
   ]
  },
  {
   "cell_type": "markdown",
   "metadata": {},
   "source": [
    "Тут, вообще говоря, не совсем понятно, что имеется ввиду под определителем неквадратной матрицы... Судя по методичке и автотестам, определитель на первых трех столбцах..."
   ]
  },
  {
   "cell_type": "code",
   "execution_count": 4,
   "metadata": {},
   "outputs": [
    {
     "name": "stdout",
     "output_type": "stream",
     "text": [
      "Определитель матрицы управляемости det(S) =  -33\n",
      "Система управляема\n"
     ]
    }
   ],
   "source": [
    "detS = S[:, :3].det()\n",
    "print(\"Определитель матрицы управляемости det(S) = \", detS)\n",
    "print(\"Система управляема\") if detS != 0 else print(\"Система не управляема\")"
   ]
  },
  {
   "cell_type": "code",
   "execution_count": 5,
   "metadata": {},
   "outputs": [
    {
     "name": "stdout",
     "output_type": "stream",
     "text": [
      "s = 1\n",
      "Допускает скалярное управление\n"
     ]
    }
   ],
   "source": [
    "lam = sp.symbols('lambda')\n",
    "\n",
    "F = sp.Matrix([\n",
    "    [lam - 2, -1, -4],\n",
    "    [0, lam - 2, 3],\n",
    "    [0, 0, lam - 5]\n",
    "])\n",
    "\n",
    "def compute_D2(matrix):\n",
    "    minors_2x2 = []\n",
    "    n = matrix.shape[0]\n",
    "    \n",
    "    # Проходим по всем возможным подматрицам 2x2\n",
    "    for i in range(n):\n",
    "        for j in range(n):\n",
    "            submatrix = matrix.minor_submatrix(i, j)  # Удаляем i-ю строку и j-й столбец\n",
    "            if submatrix.shape == (2, 2):\n",
    "                minors_2x2.append(submatrix.det())  # Считаем определитель миноров 2-го порядка\n",
    "\n",
    "    # Находим НОД всех найденных определителей\n",
    "    D_2 = sp.gcd(minors_2x2)\n",
    "    return D_2\n",
    "\n",
    "D_3 = F.det()\n",
    "D_2 = compute_D2(F)\n",
    "D_1 = sp.gcd(list(F))\n",
    "D_0 = 1\n",
    "\n",
    "E_3 = D_3 / D_2\n",
    "E_2 = D_2 / D_1\n",
    "E_1 = D_1 / D_0\n",
    "\n",
    "def is_non_trivial(polynomial):\n",
    "    return polynomial != 1\n",
    "\n",
    "def minimal_control_dimension(E_3, E_2, E_1):\n",
    "    non_trivial_polynomials = [E_3, E_2, E_1]\n",
    "    s = sum(1 for poly in non_trivial_polynomials if is_non_trivial(poly))\n",
    "    return s\n",
    "\n",
    "s = minimal_control_dimension(E_3, E_2, E_1)\n",
    "\n",
    "print(f\"s = {s}\")\n",
    "if s == 1:\n",
    "    print(\"Допускает скалярное управление\")\n",
    "elif s == 0:\n",
    "    print(\"Система не управляема\")\n",
    "else:\n",
    "    print(\"Не допускает скалярное управление\")"
   ]
  },
  {
   "cell_type": "code",
   "execution_count": 6,
   "metadata": {},
   "outputs": [
    {
     "name": "stdout",
     "output_type": "stream",
     "text": [
      "Коэффициенты характеристического полинома разомкнутой системы:\n"
     ]
    },
    {
     "data": {
      "text/latex": [
       "$\\displaystyle \\left[\\begin{matrix}7\\\\-3\\\\-5\\end{matrix}\\right]$"
      ],
      "text/plain": [
       "⎡7 ⎤\n",
       "⎢  ⎥\n",
       "⎢-3⎥\n",
       "⎢  ⎥\n",
       "⎣-5⎦"
      ]
     },
     "execution_count": 6,
     "metadata": {},
     "output_type": "execute_result"
    }
   ],
   "source": [
    "c = A.charpoly().all_coeffs()\n",
    "c = sp.Matrix(np.flip(c[1:]).reshape((-1, 1)))\n",
    "print(\"Коэффициенты характеристического полинома разомкнутой системы:\")\n",
    "c"
   ]
  },
  {
   "cell_type": "code",
   "execution_count": 7,
   "metadata": {},
   "outputs": [
    {
     "name": "stdout",
     "output_type": "stream",
     "text": [
      "Коэффициенты характеристического полинома замкнутой системы:\n"
     ]
    },
    {
     "data": {
      "text/latex": [
       "$\\displaystyle \\left[\\begin{matrix}9\\\\15\\\\7\\end{matrix}\\right]$"
      ],
      "text/plain": [
       "⎡9 ⎤\n",
       "⎢  ⎥\n",
       "⎢15⎥\n",
       "⎢  ⎥\n",
       "⎣7 ⎦"
      ]
     },
     "execution_count": 7,
     "metadata": {},
     "output_type": "execute_result"
    }
   ],
   "source": [
    "sigma_1 = np.sum(lambd)\n",
    "sigma_2 = lambd[0] * lambd[1] + lambd[0] * lambd[2] + lambd[1] * lambd[2]\n",
    "sigma_3 = np.prod(lambd)\n",
    "\n",
    "cx = np.zeros(3, dtype=int)\n",
    "cx[0] = sigma_3 * (-1) ** (3 - 0)\n",
    "cx[1] = sigma_2 * (-1) ** (3 - 1)\n",
    "cx[2] = sigma_1 * (-1) ** (3 - 2)\n",
    "\n",
    "cx = sp.Matrix(cx.reshape((-1, 1)))\n",
    "\n",
    "print(\"Коэффициенты характеристического полинома замкнутой системы:\")\n",
    "cx"
   ]
  },
  {
   "cell_type": "code",
   "execution_count": 8,
   "metadata": {},
   "outputs": [
    {
     "name": "stdout",
     "output_type": "stream",
     "text": [
      "Матрица D^-1:\n"
     ]
    },
    {
     "data": {
      "text/latex": [
       "$\\displaystyle \\left[\\begin{matrix}\\frac{1}{217} & - \\frac{65}{2387} & \\frac{115}{2387}\\\\\\frac{1}{217} & \\frac{90}{2387} & - \\frac{19}{341}\\\\\\frac{1}{217} & \\frac{59}{2387} & \\frac{394}{2387}\\end{matrix}\\right]$"
      ],
      "text/plain": [
       "⎡       -65   115 ⎤\n",
       "⎢1/217  ────  ────⎥\n",
       "⎢       2387  2387⎥\n",
       "⎢                 ⎥\n",
       "⎢        90   -19 ⎥\n",
       "⎢1/217  ────  ────⎥\n",
       "⎢       2387  341 ⎥\n",
       "⎢                 ⎥\n",
       "⎢        59   394 ⎥\n",
       "⎢1/217  ────  ────⎥\n",
       "⎣       2387  2387⎦"
      ]
     },
     "execution_count": 8,
     "metadata": {},
     "output_type": "execute_result"
    }
   ],
   "source": [
    "b = B @ r\n",
    "\n",
    "d3 = b\n",
    "d2 = A @ d3 + c[2] * b\n",
    "d1 = A @ d2 + c[1] * b\n",
    "D = np.hstack((d1, d2, d3))\n",
    "D = sp.Matrix(D)\n",
    "D_1 = D.inv()\n",
    "print(\"Матрица D^-1:\")\n",
    "D_1"
   ]
  },
  {
   "cell_type": "code",
   "execution_count": 9,
   "metadata": {},
   "outputs": [
    {
     "name": "stdout",
     "output_type": "stream",
     "text": [
      "Скалярное управление:\n"
     ]
    },
    {
     "data": {
      "text/latex": [
       "$\\displaystyle \\left[\\begin{matrix}- \\frac{32}{217} & - \\frac{314}{341} & - \\frac{2564}{2387}\\end{matrix}\\right]$"
      ],
      "text/plain": [
       "⎡-32   -314   -2564 ⎤\n",
       "⎢────  ─────  ──────⎥\n",
       "⎣217    341    2387 ⎦"
      ]
     },
     "execution_count": 9,
     "metadata": {},
     "output_type": "execute_result"
    }
   ],
   "source": [
    "v = (c - cx).T @ D_1 \n",
    "print(\"Скалярное управление:\")\n",
    "v"
   ]
  },
  {
   "cell_type": "code",
   "execution_count": 10,
   "metadata": {},
   "outputs": [
    {
     "name": "stdout",
     "output_type": "stream",
     "text": [
      "Векторное управление:\n"
     ]
    },
    {
     "data": {
      "text/latex": [
       "$\\displaystyle \\left[\\begin{matrix}- \\frac{64}{217} & - \\frac{628}{341} & - \\frac{5128}{2387}\\\\- \\frac{96}{217} & - \\frac{942}{341} & - \\frac{7692}{2387}\\end{matrix}\\right]$"
      ],
      "text/plain": [
       "⎡-64   -628   -5128 ⎤\n",
       "⎢────  ─────  ──────⎥\n",
       "⎢217    341    2387 ⎥\n",
       "⎢                   ⎥\n",
       "⎢-96   -942   -7692 ⎥\n",
       "⎢────  ─────  ──────⎥\n",
       "⎣217    341    2387 ⎦"
      ]
     },
     "execution_count": 10,
     "metadata": {},
     "output_type": "execute_result"
    }
   ],
   "source": [
    "u = r @ v\n",
    "print(\"Векторное управление:\")\n",
    "u"
   ]
  }
 ],
 "metadata": {
  "kernelspec": {
   "display_name": "Python 3",
   "language": "python",
   "name": "python3"
  },
  "language_info": {
   "codemirror_mode": {
    "name": "ipython",
    "version": 3
   },
   "file_extension": ".py",
   "mimetype": "text/x-python",
   "name": "python",
   "nbconvert_exporter": "python",
   "pygments_lexer": "ipython3",
   "version": "3.12.2"
  }
 },
 "nbformat": 4,
 "nbformat_minor": 2
}
