{
 "cells": [
  {
   "cell_type": "code",
   "execution_count": 1,
   "metadata": {},
   "outputs": [],
   "source": [
    "import numpy as np\n",
    "import sympy as sp\n",
    "from latex import *\n",
    "sp.init_printing() "
   ]
  },
  {
   "cell_type": "markdown",
   "metadata": {},
   "source": [
    "Задаем значения из своего варианта"
   ]
  },
  {
   "cell_type": "code",
   "execution_count": 2,
   "metadata": {},
   "outputs": [],
   "source": [
    "latex_A = r\"\"\"\n",
    "    \n",
    "    \\begin{pmatrix}\n",
    "    4 & -1 & 3\\\\5 & 2 & -1\\\\1 & -2 & 3\\\\\n",
    "    \\end{pmatrix}\n",
    "  \n",
    "\"\"\"\n",
    "\n",
    "latex_B = r\"\"\"\n",
    "    \n",
    "    \\begin{pmatrix}\n",
    "    3 & 4\\\\-2 & 1\\\\2 & -2\\\\\n",
    "    \\end{pmatrix}\n",
    "  \n",
    "\"\"\"\n",
    "\n",
    "latex_lambd =r\"\"\"\n",
    "    \n",
    "    \\begin{pmatrix}\n",
    "    -1\\\\-4\\\\-2\\\\\n",
    "    \\end{pmatrix}\n",
    "  \n",
    "\"\"\"\n",
    "\n",
    "latex_q = r\"\"\"\n",
    "    \n",
    "    \\begin{pmatrix}\n",
    "    2\\\\1\\\\\n",
    "    \\end{pmatrix}\n",
    "  \n",
    "\"\"\"\n",
    "\n",
    "A = latex_to_sympy_matrix(latex_A)\n",
    "B = latex_to_sympy_matrix(latex_B)\n",
    "lambd = latex_to_sympy_matrix(latex_lambd)\n",
    "q = latex_to_sympy_matrix(latex_q)\n"
   ]
  },
  {
   "cell_type": "code",
   "execution_count": 3,
   "metadata": {},
   "outputs": [
    {
     "name": "stdout",
     "output_type": "stream",
     "text": [
      "Матрица b\n",
      "\\begin{pmatrix}10\\\\-3\\\\2\\end{pmatrix}\n"
     ]
    },
    {
     "data": {
      "text/latex": [
       "$\\displaystyle \\left[\\begin{matrix}10\\\\-3\\\\2\\end{matrix}\\right]$"
      ],
      "text/plain": [
       "⎡10⎤\n",
       "⎢  ⎥\n",
       "⎢-3⎥\n",
       "⎢  ⎥\n",
       "⎣2 ⎦"
      ]
     },
     "execution_count": 3,
     "metadata": {},
     "output_type": "execute_result"
    }
   ],
   "source": [
    "b = B @ q\n",
    "ans = fixed_latex(b)\n",
    "print(\"Матрица b\")\n",
    "print(ans)\n",
    "b"
   ]
  },
  {
   "cell_type": "code",
   "execution_count": 4,
   "metadata": {},
   "outputs": [
    {
     "name": "stdout",
     "output_type": "stream",
     "text": [
      "Матрица управляемости:\n",
      "\\begin{pmatrix}10 & 49 & 220\\\\-3 & 42 & 307\\\\2 & 22 & 31\\end{pmatrix}\n"
     ]
    },
    {
     "data": {
      "text/latex": [
       "$\\displaystyle \\left[\\begin{matrix}10 & 49 & 220\\\\-3 & 42 & 307\\\\2 & 22 & 31\\end{matrix}\\right]$"
      ],
      "text/plain": [
       "⎡10  49  220⎤\n",
       "⎢           ⎥\n",
       "⎢-3  42  307⎥\n",
       "⎢           ⎥\n",
       "⎣2   22  31 ⎦"
      ]
     },
     "execution_count": 4,
     "metadata": {},
     "output_type": "execute_result"
    }
   ],
   "source": [
    "S = b.row_join(A @ b).row_join(A @ A @ b)\n",
    "print(\"Матрица управляемости:\")\n",
    "ans = fixed_latex(S)\n",
    "print(ans)\n",
    "S"
   ]
  },
  {
   "cell_type": "code",
   "execution_count": 5,
   "metadata": {},
   "outputs": [
    {
     "name": "stdout",
     "output_type": "stream",
     "text": [
      "Определитель матрицы управляемости det(S) =  -52877\n",
      "Система управляема\n"
     ]
    }
   ],
   "source": [
    "detS = S[:, :3].det()\n",
    "print(\"Определитель матрицы управляемости det(S) = \", detS)\n",
    "print(\"Система управляема\") if detS != 0 else print(\"Система не управляема\")"
   ]
  },
  {
   "cell_type": "code",
   "execution_count": 6,
   "metadata": {},
   "outputs": [
    {
     "name": "stdout",
     "output_type": "stream",
     "text": [
      "Коэффициенты характеристического полинома разомкнутой системы\n",
      "\\begin{pmatrix}4\\\\26\\\\-9\\end{pmatrix}\n"
     ]
    },
    {
     "data": {
      "text/latex": [
       "$\\displaystyle \\left[\\begin{matrix}4\\\\26\\\\-9\\end{matrix}\\right]$"
      ],
      "text/plain": [
       "⎡4 ⎤\n",
       "⎢  ⎥\n",
       "⎢26⎥\n",
       "⎢  ⎥\n",
       "⎣-9⎦"
      ]
     },
     "execution_count": 6,
     "metadata": {},
     "output_type": "execute_result"
    }
   ],
   "source": [
    "s = sp.symbols(\"s\")\n",
    "\n",
    "W = (s * sp.eye(3) - A).inv() @ b # передаточная функция\n",
    "F = sp.det(s * sp.eye(3) - A) # характеристический полином разомкнутой системы\n",
    "g = W * F\n",
    "c = sp.Matrix(sp.Poly(F, s).all_coeffs()[::-1][:-1])\n",
    "\n",
    "ans = fixed_latex(c)\n",
    "print(\"Коэффициенты характеристического полинома разомкнутой системы\")\n",
    "print(ans)\n",
    "c"
   ]
  },
  {
   "cell_type": "code",
   "execution_count": 7,
   "metadata": {},
   "outputs": [
    {
     "name": "stdout",
     "output_type": "stream",
     "text": [
      "Коэффициенты характеристического полинома замкнутой системы:\n",
      "\\begin{pmatrix}8\\\\14\\\\7\\end{pmatrix}\n"
     ]
    },
    {
     "data": {
      "text/latex": [
       "$\\displaystyle \\left[\\begin{matrix}8\\\\14\\\\7\\end{matrix}\\right]$"
      ],
      "text/plain": [
       "⎡8 ⎤\n",
       "⎢  ⎥\n",
       "⎢14⎥\n",
       "⎢  ⎥\n",
       "⎣7 ⎦"
      ]
     },
     "execution_count": 7,
     "metadata": {},
     "output_type": "execute_result"
    }
   ],
   "source": [
    "cx = np.zeros(3, dtype=int)\n",
    "cx[0] = -np.prod(lambd)\n",
    "cx[1] = lambd[0] * lambd[1] + lambd[0] * lambd[2] + lambd[1] * lambd[2]\n",
    "cx[2] = -np.sum(lambd)\n",
    "\n",
    "cx = sp.Matrix(cx.reshape((-1, 1)))\n",
    "\n",
    "# характеристический полином замкнутой системы\n",
    "H = sum(cx[i] * s**i for i in range(len(cx))) + s ** 3 \n",
    "\n",
    "print(\"Коэффициенты характеристического полинома замкнутой системы:\")\n",
    "ans = fixed_latex(cx)\n",
    "print(ans)\n",
    "cx"
   ]
  },
  {
   "cell_type": "code",
   "execution_count": 8,
   "metadata": {},
   "outputs": [
    {
     "name": "stdout",
     "output_type": "stream",
     "text": [
      "Матрица управления P\n",
      "\\begin{pmatrix}\\frac{872}{209} & \\frac{464}{209} & - \\frac{320}{209}\\\\\\frac{436}{209} & \\frac{232}{209} & - \\frac{160}{209}\\end{pmatrix}\n"
     ]
    },
    {
     "data": {
      "text/latex": [
       "$\\displaystyle \\left[\\begin{matrix}\\frac{872}{209} & \\frac{464}{209} & - \\frac{320}{209}\\\\\\frac{436}{209} & \\frac{232}{209} & - \\frac{160}{209}\\end{matrix}\\right]$"
      ],
      "text/plain": [
       "⎡872  464  -320 ⎤\n",
       "⎢───  ───  ─────⎥\n",
       "⎢209  209   209 ⎥\n",
       "⎢               ⎥\n",
       "⎢436  232  -160 ⎥\n",
       "⎢───  ───  ─────⎥\n",
       "⎣209  209   209 ⎦"
      ]
     },
     "execution_count": 8,
     "metadata": {},
     "output_type": "execute_result"
    }
   ],
   "source": [
    "p = sp.Matrix(sp.symbols('p1 p2 p3'))\n",
    "p = sp.solve(sp.Eq(g.dot(p), H - F), p)\n",
    "p = sp.Matrix(list(p.values())).T\n",
    "P = q @ p\n",
    "ans = fixed_latex(P)\n",
    "print(\"Матрица управления P\")\n",
    "print(ans)\n",
    "P"
   ]
  }
 ],
 "metadata": {
  "kernelspec": {
   "display_name": "Python 3",
   "language": "python",
   "name": "python3"
  },
  "language_info": {
   "codemirror_mode": {
    "name": "ipython",
    "version": 3
   },
   "file_extension": ".py",
   "mimetype": "text/x-python",
   "name": "python",
   "nbconvert_exporter": "python",
   "pygments_lexer": "ipython3",
   "version": "3.12.2"
  }
 },
 "nbformat": 4,
 "nbformat_minor": 2
}
