{
 "cells": [
  {
   "cell_type": "code",
   "execution_count": 79,
   "metadata": {},
   "outputs": [],
   "source": [
    "import numpy as np\n",
    "import sympy as sp\n",
    "from latex import *\n",
    "sp.init_printing() "
   ]
  },
  {
   "cell_type": "markdown",
   "metadata": {},
   "source": [
    "Задаем значения из своего варианта"
   ]
  },
  {
   "cell_type": "code",
   "execution_count": 80,
   "metadata": {},
   "outputs": [],
   "source": [
    "latex_A = r\"\"\"\n",
    "    \n",
    "    \\begin{pmatrix}\n",
    "    1 & 1 & -2\\\\2 & -2 & -1\\\\-1 & -3 & 2\\\\\n",
    "    \\end{pmatrix}\n",
    "  \n",
    "\"\"\"\n",
    "\n",
    "latex_B = r\"\"\"\n",
    "    \n",
    "    \\begin{pmatrix}\n",
    "    1\\\\1\\\\-2\\\\\n",
    "    \\end{pmatrix}\n",
    "  \n",
    "\"\"\"\n",
    "\n",
    "latex_lambd =r\"\"\"\n",
    "    \n",
    "    \\begin{pmatrix}\n",
    "    -3\\\\-3\\\\-4\\\\\n",
    "    \\end{pmatrix}\n",
    "  \n",
    "\"\"\"\n",
    "\n",
    "A = latex_to_sympy_matrix(latex_A)\n",
    "B = latex_to_sympy_matrix(latex_B)\n",
    "lambd = latex_to_sympy_matrix(latex_lambd)\n"
   ]
  },
  {
   "cell_type": "code",
   "execution_count": 81,
   "metadata": {},
   "outputs": [
    {
     "name": "stdout",
     "output_type": "stream",
     "text": [
      "Матрица управляемости:\n",
      "\\begin{pmatrix}1 & 6 & 24\\\\1 & 2 & 16\\\\-2 & -8 & -28\\end{pmatrix}\n"
     ]
    },
    {
     "data": {
      "text/latex": [
       "$\\displaystyle \\left[\\begin{matrix}1 & 6 & 24\\\\1 & 2 & 16\\\\-2 & -8 & -28\\end{matrix}\\right]$"
      ],
      "text/plain": [
       "⎡1   6   24 ⎤\n",
       "⎢           ⎥\n",
       "⎢1   2   16 ⎥\n",
       "⎢           ⎥\n",
       "⎣-2  -8  -28⎦"
      ]
     },
     "execution_count": 81,
     "metadata": {},
     "output_type": "execute_result"
    }
   ],
   "source": [
    "S = B.row_join(A @ B).row_join(A @ A @ B)\n",
    "print(\"Матрица управляемости:\")\n",
    "ans = fixed_latex(S)\n",
    "print(ans)\n",
    "S"
   ]
  },
  {
   "cell_type": "code",
   "execution_count": 82,
   "metadata": {},
   "outputs": [
    {
     "name": "stdout",
     "output_type": "stream",
     "text": [
      "Определитель матрицы управляемости det(S) =  -48\n",
      "Система управляема\n"
     ]
    }
   ],
   "source": [
    "detS = S.det()\n",
    "print(\"Определитель матрицы управляемости det(S) = \", detS)\n",
    "print(\"Система управляема\") if detS != 0 else print(\"Система не управляема\")"
   ]
  },
  {
   "cell_type": "code",
   "execution_count": 83,
   "metadata": {},
   "outputs": [
    {
     "name": "stdout",
     "output_type": "stream",
     "text": [
      "Коэффициенты характеристического полинома разомкнутой системы\n",
      "\\begin{pmatrix}-6\\\\-11\\\\-1\\end{pmatrix}\n"
     ]
    },
    {
     "data": {
      "text/latex": [
       "$\\displaystyle \\left[\\begin{matrix}-6\\\\-11\\\\-1\\end{matrix}\\right]$"
      ],
      "text/plain": [
       "⎡-6 ⎤\n",
       "⎢   ⎥\n",
       "⎢-11⎥\n",
       "⎢   ⎥\n",
       "⎣-1 ⎦"
      ]
     },
     "execution_count": 83,
     "metadata": {},
     "output_type": "execute_result"
    }
   ],
   "source": [
    "s = sp.symbols(\"s\")\n",
    "\n",
    "W = (s * sp.eye(3) - A).inv() @ B # передаточная функция\n",
    "F = sp.det(s * sp.eye(3) - A) # характеристический полином разомкнутой системы\n",
    "g = W * F\n",
    "c = sp.Matrix(sp.Poly(F, s).all_coeffs()[::-1][:-1])\n",
    "\n",
    "ans = fixed_latex(c)\n",
    "print(\"Коэффициенты характеристического полинома разомкнутой системы\")\n",
    "print(ans)\n",
    "c"
   ]
  },
  {
   "cell_type": "code",
   "execution_count": 84,
   "metadata": {},
   "outputs": [
    {
     "name": "stdout",
     "output_type": "stream",
     "text": [
      "Коэффициенты характеристического полинома замкнутой системы:\n",
      "\\begin{pmatrix}36\\\\33\\\\10\\end{pmatrix}\n"
     ]
    },
    {
     "data": {
      "text/latex": [
       "$\\displaystyle \\left[\\begin{matrix}36\\\\33\\\\10\\end{matrix}\\right]$"
      ],
      "text/plain": [
       "⎡36⎤\n",
       "⎢  ⎥\n",
       "⎢33⎥\n",
       "⎢  ⎥\n",
       "⎣10⎦"
      ]
     },
     "execution_count": 84,
     "metadata": {},
     "output_type": "execute_result"
    }
   ],
   "source": [
    "cx = np.zeros(3, dtype=int)\n",
    "cx[0] = -np.prod(lambd)\n",
    "cx[1] = lambd[0] * lambd[1] + lambd[0] * lambd[2] + lambd[1] * lambd[2]\n",
    "cx[2] = -np.sum(lambd)\n",
    "\n",
    "cx = sp.Matrix(cx.reshape((-1, 1)))\n",
    "\n",
    "# характеристический полином замкнутой системы\n",
    "H = sum(cx[i] * s**i for i in range(len(cx))) + s ** 3 \n",
    "\n",
    "print(\"Коэффициенты характеристического полинома замкнутой системы:\")\n",
    "ans = fixed_latex(cx)\n",
    "print(ans)\n",
    "cx"
   ]
  },
  {
   "cell_type": "markdown",
   "metadata": {},
   "source": [
    "Вообще говоря $\\vec{p}$ должен быть строкой, но в ответе просят столбец, так что..."
   ]
  },
  {
   "cell_type": "code",
   "execution_count": 85,
   "metadata": {},
   "outputs": [
    {
     "name": "stdout",
     "output_type": "stream",
     "text": [
      "Вектор управления p\n",
      "\\begin{pmatrix}\\frac{25}{4}\\\\\\frac{3}{4}\\\\-2\\end{pmatrix}\n"
     ]
    },
    {
     "data": {
      "text/latex": [
       "$\\displaystyle \\left[\\begin{matrix}\\frac{25}{4}\\\\\\frac{3}{4}\\\\-2\\end{matrix}\\right]$"
      ],
      "text/plain": [
       "⎡25/4⎤\n",
       "⎢    ⎥\n",
       "⎢3/4 ⎥\n",
       "⎢    ⎥\n",
       "⎣ -2 ⎦"
      ]
     },
     "execution_count": 85,
     "metadata": {},
     "output_type": "execute_result"
    }
   ],
   "source": [
    "p = sp.Matrix(sp.symbols('p1 p2 p3'))\n",
    "p = sp.solve(sp.Eq(g.dot(p), H - F), p)\n",
    "p = sp.Matrix(list(p.values()))\n",
    "ans = fixed_latex(p)\n",
    "print(\"Вектор управления p\")\n",
    "print(ans)\n",
    "p"
   ]
  }
 ],
 "metadata": {
  "kernelspec": {
   "display_name": "Python 3",
   "language": "python",
   "name": "python3"
  },
  "language_info": {
   "codemirror_mode": {
    "name": "ipython",
    "version": 3
   },
   "file_extension": ".py",
   "mimetype": "text/x-python",
   "name": "python",
   "nbconvert_exporter": "python",
   "pygments_lexer": "ipython3",
   "version": "3.12.2"
  }
 },
 "nbformat": 4,
 "nbformat_minor": 2
}
