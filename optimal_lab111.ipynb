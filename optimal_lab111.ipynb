{
 "cells": [
  {
   "cell_type": "code",
   "execution_count": 1,
   "metadata": {},
   "outputs": [],
   "source": [
    "import numpy as np\n",
    "import sympy as sp\n",
    "from latex import *\n",
    "sp.init_printing() "
   ]
  },
  {
   "cell_type": "markdown",
   "metadata": {},
   "source": [
    "Задаем значения из своего варианта"
   ]
  },
  {
   "cell_type": "code",
   "execution_count": 2,
   "metadata": {},
   "outputs": [],
   "source": [
    "latex_A = r\"\"\"\n",
    "    \n",
    "    \\begin{pmatrix}\n",
    "    2 & 3 & -4\\\\0 & 1 & 2\\\\-3 & 2 & 4\\\\\n",
    "    \\end{pmatrix}\n",
    "  \n",
    "\"\"\"\n",
    "\n",
    "latex_B = r\"\"\"\n",
    "    \n",
    "    \\begin{pmatrix}\n",
    "    -1\\\\1\\\\4\\\\\n",
    "    \\end{pmatrix}\n",
    "  \n",
    "\"\"\"\n",
    "\n",
    "latex_lambd =r\"\"\"\n",
    "    \n",
    "    \\begin{pmatrix}\n",
    "    -2\\\\-1\\\\-3\\\\\n",
    "    \\end{pmatrix}\n",
    "  \n",
    "\"\"\"\n",
    "\n",
    "A = latex_to_sympy_matrix(latex_A)\n",
    "B = latex_to_sympy_matrix(latex_B)\n",
    "lambd = latex_to_sympy_matrix(latex_lambd)\n"
   ]
  },
  {
   "cell_type": "code",
   "execution_count": 3,
   "metadata": {},
   "outputs": [
    {
     "name": "stdout",
     "output_type": "stream",
     "text": [
      "Матрица управляемости:\n",
      "\\begin{pmatrix}-1 & -15 & -87\\\\1 & 9 & 51\\\\4 & 21 & 147\\end{pmatrix}\n"
     ]
    },
    {
     "data": {
      "text/latex": [
       "$\\displaystyle \\left[\\begin{matrix}-1 & -15 & -87\\\\1 & 9 & 51\\\\4 & 21 & 147\\end{matrix}\\right]$"
      ],
      "text/plain": [
       "⎡-1  -15  -87⎤\n",
       "⎢            ⎥\n",
       "⎢1    9   51 ⎥\n",
       "⎢            ⎥\n",
       "⎣4   21   147⎦"
      ]
     },
     "execution_count": 3,
     "metadata": {},
     "output_type": "execute_result"
    }
   ],
   "source": [
    "S = B.row_join(A @ B).row_join(A @ A @ B)\n",
    "print(\"Матрица управляемости:\")\n",
    "ans = fixed_latex(S)\n",
    "print(ans)\n",
    "S"
   ]
  },
  {
   "cell_type": "code",
   "execution_count": 4,
   "metadata": {},
   "outputs": [
    {
     "name": "stdout",
     "output_type": "stream",
     "text": [
      "Определитель матрицы управляемости det(S) =  198\n",
      "Система управляема\n"
     ]
    }
   ],
   "source": [
    "detS = S.det()\n",
    "print(\"Определитель матрицы управляемости det(S) = \", detS)\n",
    "print(\"Система управляема\") if detS != 0 else print(\"Система не управляема\")"
   ]
  },
  {
   "cell_type": "code",
   "execution_count": 5,
   "metadata": {},
   "outputs": [
    {
     "name": "stdout",
     "output_type": "stream",
     "text": [
      "Коэффициенты характеристического полинома разомкнутой системы:\n",
      "\\begin{pmatrix}30\\\\-2\\\\-7\\end{pmatrix}\n"
     ]
    },
    {
     "data": {
      "text/latex": [
       "$\\displaystyle \\left[\\begin{matrix}30\\\\-2\\\\-7\\end{matrix}\\right]$"
      ],
      "text/plain": [
       "⎡30⎤\n",
       "⎢  ⎥\n",
       "⎢-2⎥\n",
       "⎢  ⎥\n",
       "⎣-7⎦"
      ]
     },
     "execution_count": 5,
     "metadata": {},
     "output_type": "execute_result"
    }
   ],
   "source": [
    "c = A.charpoly().all_coeffs()\n",
    "c = sp.Matrix(np.flip(c[1:]).reshape((-1, 1)))\n",
    "print(\"Коэффициенты характеристического полинома разомкнутой системы:\")\n",
    "ans = fixed_latex(c)\n",
    "print(ans)\n",
    "c"
   ]
  },
  {
   "cell_type": "code",
   "execution_count": 6,
   "metadata": {},
   "outputs": [
    {
     "name": "stdout",
     "output_type": "stream",
     "text": [
      "Коэффициенты характеристического полинома замкнутой системы:\n",
      "\\begin{pmatrix}6\\\\11\\\\6\\end{pmatrix}\n"
     ]
    },
    {
     "data": {
      "text/latex": [
       "$\\displaystyle \\left[\\begin{matrix}6\\\\11\\\\6\\end{matrix}\\right]$"
      ],
      "text/plain": [
       "⎡6 ⎤\n",
       "⎢  ⎥\n",
       "⎢11⎥\n",
       "⎢  ⎥\n",
       "⎣6 ⎦"
      ]
     },
     "execution_count": 6,
     "metadata": {},
     "output_type": "execute_result"
    }
   ],
   "source": [
    "sigma_1 = np.sum(lambd)\n",
    "sigma_2 = lambd[0] * lambd[1] + lambd[0] * lambd[2] + lambd[1] * lambd[2]\n",
    "sigma_3 = np.prod(lambd)\n",
    "\n",
    "cx = np.zeros(3, dtype=int)\n",
    "cx[0] = sigma_3 * (-1) ** (3 - 0)\n",
    "cx[1] = sigma_2 * (-1) ** (3 - 1)\n",
    "cx[2] = sigma_1 * (-1) ** (3 - 2)\n",
    "\n",
    "cx = sp.Matrix(cx.reshape((-1, 1)))\n",
    "\n",
    "print(\"Коэффициенты характеристического полинома замкнутой системы:\")\n",
    "ans = fixed_latex(cx)\n",
    "print(ans)\n",
    "cx"
   ]
  },
  {
   "cell_type": "code",
   "execution_count": 7,
   "metadata": {},
   "outputs": [
    {
     "name": "stdout",
     "output_type": "stream",
     "text": [
      "Матрица D^-1:\n",
      "\\begin{pmatrix}- \\frac{5}{66} & - \\frac{13}{66} & \\frac{1}{33}\\\\- \\frac{8}{33} & - \\frac{4}{11} & \\frac{1}{33}\\\\- \\frac{19}{33} & - \\frac{34}{33} & \\frac{4}{11}\\end{pmatrix}\n"
     ]
    },
    {
     "data": {
      "text/latex": [
       "$\\displaystyle \\left[\\begin{matrix}- \\frac{5}{66} & - \\frac{13}{66} & \\frac{1}{33}\\\\- \\frac{8}{33} & - \\frac{4}{11} & \\frac{1}{33}\\\\- \\frac{19}{33} & - \\frac{34}{33} & \\frac{4}{11}\\end{matrix}\\right]$"
      ],
      "text/plain": [
       "⎡       -13        ⎤\n",
       "⎢-5/66  ────   1/33⎥\n",
       "⎢        66        ⎥\n",
       "⎢                  ⎥\n",
       "⎢-8/33  -4/11  1/33⎥\n",
       "⎢                  ⎥\n",
       "⎢-19    -34        ⎥\n",
       "⎢────   ────   4/11⎥\n",
       "⎣ 33     33        ⎦"
      ]
     },
     "execution_count": 7,
     "metadata": {},
     "output_type": "execute_result"
    }
   ],
   "source": [
    "d3 = B\n",
    "d2 = A @ B + c[2] * B\n",
    "d1 = A @ A @ B + c[2] * A @ B + c[1] * B\n",
    "D = np.hstack((d1, d2, d3))\n",
    "D = sp.Matrix(D)\n",
    "D_1 = D.inv()\n",
    "print(\"Матрица D^-1:\")\n",
    "ans = fixed_latex(D_1)\n",
    "print(ans)\n",
    "D_1\n"
   ]
  },
  {
   "cell_type": "code",
   "execution_count": 8,
   "metadata": {},
   "outputs": [
    {
     "name": "stdout",
     "output_type": "stream",
     "text": [
      "Вектор G^T\n",
      "\\begin{pmatrix}24 & -13 & -13\\end{pmatrix}\n"
     ]
    },
    {
     "data": {
      "text/latex": [
       "$\\displaystyle \\left[\\begin{matrix}24 & -13 & -13\\end{matrix}\\right]$"
      ],
      "text/plain": [
       "[24  -13  -13]"
      ]
     },
     "execution_count": 8,
     "metadata": {},
     "output_type": "execute_result"
    }
   ],
   "source": [
    "g_T = (c - cx).T\n",
    "print(\"Вектор G^T\")\n",
    "ans = fixed_latex(g_T)\n",
    "print(ans)\n",
    "g_T\n"
   ]
  },
  {
   "cell_type": "code",
   "execution_count": 9,
   "metadata": {},
   "outputs": [
    {
     "name": "stdout",
     "output_type": "stream",
     "text": [
      "Вектор P:\n",
      "\\begin{pmatrix}\\frac{97}{11} & \\frac{442}{33} & - \\frac{145}{33}\\end{pmatrix}\n"
     ]
    },
    {
     "data": {
      "text/latex": [
       "$\\displaystyle \\left[\\begin{matrix}\\frac{97}{11} & \\frac{442}{33} & - \\frac{145}{33}\\end{matrix}\\right]$"
      ],
      "text/plain": [
       "⎡97  442  -145 ⎤\n",
       "⎢──  ───  ─────⎥\n",
       "⎣11   33    33 ⎦"
      ]
     },
     "execution_count": 9,
     "metadata": {},
     "output_type": "execute_result"
    }
   ],
   "source": [
    "p = g_T @ D_1\n",
    "print(\"Вектор P:\")\n",
    "ans = fixed_latex(p)\n",
    "print(ans)\n",
    "p\n"
   ]
  }
 ],
 "metadata": {
  "kernelspec": {
   "display_name": "Python 3",
   "language": "python",
   "name": "python3"
  },
  "language_info": {
   "codemirror_mode": {
    "name": "ipython",
    "version": 3
   },
   "file_extension": ".py",
   "mimetype": "text/x-python",
   "name": "python",
   "nbconvert_exporter": "python",
   "pygments_lexer": "ipython3",
   "version": "3.12.2"
  }
 },
 "nbformat": 4,
 "nbformat_minor": 2
}
