{
 "cells": [
  {
   "cell_type": "code",
   "execution_count": 1,
   "metadata": {},
   "outputs": [],
   "source": [
    "import numpy as np\n",
    "import sympy as sp\n",
    "sp.init_printing() "
   ]
  },
  {
   "cell_type": "markdown",
   "metadata": {},
   "source": [
    "Задаем значения из своего варианта"
   ]
  },
  {
   "cell_type": "code",
   "execution_count": 2,
   "metadata": {},
   "outputs": [],
   "source": [
    "A = sp.Matrix(np.array([\n",
    "    [ 1,  2, -1],\n",
    "    [-3,  0, -2],\n",
    "    [ 2,  3,  0],\n",
    "]))\n",
    "B = sp.Matrix(np.array([\n",
    "    [-1],\n",
    "    [-1],\n",
    "    [ 1]\n",
    "]))\n",
    "lambd = sp.Matrix(np.array([\n",
    "    [-2],\n",
    "    [-1],\n",
    "    [-3],\n",
    "]))"
   ]
  },
  {
   "cell_type": "code",
   "execution_count": 3,
   "metadata": {},
   "outputs": [
    {
     "name": "stdout",
     "output_type": "stream",
     "text": [
      "Матрица управляемости:\n"
     ]
    },
    {
     "data": {
      "text/latex": [
       "$\\displaystyle \\left[\\begin{matrix}-1 & -4 & 3\\\\-1 & 1 & 22\\\\1 & -5 & -5\\end{matrix}\\right]$"
      ],
      "text/plain": [
       "⎡-1  -4  3 ⎤\n",
       "⎢          ⎥\n",
       "⎢-1  1   22⎥\n",
       "⎢          ⎥\n",
       "⎣1   -5  -5⎦"
      ]
     },
     "execution_count": 3,
     "metadata": {},
     "output_type": "execute_result"
    }
   ],
   "source": [
    "S = B.row_join(A @ B).row_join(A @ A @ B)\n",
    "print(\"Матрица управляемости:\")\n",
    "S"
   ]
  },
  {
   "cell_type": "code",
   "execution_count": 4,
   "metadata": {},
   "outputs": [
    {
     "name": "stdout",
     "output_type": "stream",
     "text": [
      "Определитель матрицы управляемости det(S) =  -161\n",
      "Система управляема\n"
     ]
    }
   ],
   "source": [
    "detS = S.det()\n",
    "print(\"Определитель матрицы управляемости det(S) = \", detS)\n",
    "print(\"Система управляема\") if detS != 0 else print(\"Система не управляема\")"
   ]
  },
  {
   "cell_type": "code",
   "execution_count": 5,
   "metadata": {},
   "outputs": [
    {
     "name": "stdout",
     "output_type": "stream",
     "text": [
      "Коэффициенты характеристического полинома разомкнутой системы:\n"
     ]
    },
    {
     "data": {
      "text/latex": [
       "$\\displaystyle \\left[\\begin{matrix}-7\\\\14\\\\-1\\end{matrix}\\right]$"
      ],
      "text/plain": [
       "⎡-7⎤\n",
       "⎢  ⎥\n",
       "⎢14⎥\n",
       "⎢  ⎥\n",
       "⎣-1⎦"
      ]
     },
     "execution_count": 5,
     "metadata": {},
     "output_type": "execute_result"
    }
   ],
   "source": [
    "c = A.charpoly().all_coeffs()\n",
    "c = sp.Matrix(np.flip(c[1:]).reshape((-1, 1)))\n",
    "print(\"Коэффициенты характеристического полинома разомкнутой системы:\")\n",
    "c"
   ]
  },
  {
   "cell_type": "code",
   "execution_count": 6,
   "metadata": {},
   "outputs": [
    {
     "name": "stdout",
     "output_type": "stream",
     "text": [
      "Коэффициенты характеристического полинома замкнутой системы:\n"
     ]
    },
    {
     "data": {
      "text/latex": [
       "$\\displaystyle \\left[\\begin{matrix}6\\\\11\\\\6\\end{matrix}\\right]$"
      ],
      "text/plain": [
       "⎡6 ⎤\n",
       "⎢  ⎥\n",
       "⎢11⎥\n",
       "⎢  ⎥\n",
       "⎣6 ⎦"
      ]
     },
     "execution_count": 6,
     "metadata": {},
     "output_type": "execute_result"
    }
   ],
   "source": [
    "sigma_1 = np.sum(lambd)\n",
    "sigma_2 = lambd[0] * lambd[1] + lambd[0] * lambd[2] + lambd[1] * lambd[2]\n",
    "sigma_3 = np.prod(lambd)\n",
    "\n",
    "cx = np.zeros(3, dtype=int)\n",
    "cx[0] = sigma_3 * (-1) ** (3 - 0)\n",
    "cx[1] = sigma_2 * (-1) ** (3 - 1)\n",
    "cx[2] = sigma_1 * (-1) ** (3 - 2)\n",
    "\n",
    "cx = sp.Matrix(cx.reshape((-1, 1)))\n",
    "\n",
    "print(\"Коэффициенты характеристического полинома замкнутой системы:\")\n",
    "cx"
   ]
  },
  {
   "cell_type": "code",
   "execution_count": 7,
   "metadata": {},
   "outputs": [
    {
     "name": "stdout",
     "output_type": "stream",
     "text": [
      "Матрица D^-1:\n"
     ]
    },
    {
     "data": {
      "text/latex": [
       "$\\displaystyle \\left[\\begin{matrix}- \\frac{4}{161} & \\frac{9}{161} & \\frac{5}{161}\\\\- \\frac{3}{23} & \\frac{1}{23} & - \\frac{2}{23}\\\\- \\frac{10}{23} & - \\frac{12}{23} & \\frac{1}{23}\\end{matrix}\\right]$"
      ],
      "text/plain": [
       "⎡-4/161  9/161  5/161⎤\n",
       "⎢                    ⎥\n",
       "⎢-3/23   1/23   -2/23⎥\n",
       "⎢                    ⎥\n",
       "⎢ -10    -12         ⎥\n",
       "⎢ ────   ────   1/23 ⎥\n",
       "⎣  23     23         ⎦"
      ]
     },
     "execution_count": 7,
     "metadata": {},
     "output_type": "execute_result"
    }
   ],
   "source": [
    "d3 = B\n",
    "d2 = A @ B + c[2] * B\n",
    "d1 = A @ A @ B + c[2] * A @ B + c[1] * B\n",
    "D = np.hstack((d1, d2, d3))\n",
    "D = sp.Matrix(D)\n",
    "D_1 = D.inv()\n",
    "print(\"Матрица D^-1:\")\n",
    "D_1"
   ]
  },
  {
   "cell_type": "code",
   "execution_count": 8,
   "metadata": {},
   "outputs": [
    {
     "name": "stdout",
     "output_type": "stream",
     "text": [
      "Вектор G^T\n"
     ]
    },
    {
     "data": {
      "text/latex": [
       "$\\displaystyle \\left[\\begin{matrix}-13 & 3 & -7\\end{matrix}\\right]$"
      ],
      "text/plain": [
       "[-13  3  -7]"
      ]
     },
     "execution_count": 8,
     "metadata": {},
     "output_type": "execute_result"
    }
   ],
   "source": [
    "g_T = (c - cx).T\n",
    "print(\"Вектор G^T\")\n",
    "g_T"
   ]
  },
  {
   "cell_type": "code",
   "execution_count": 9,
   "metadata": {},
   "outputs": [
    {
     "name": "stdout",
     "output_type": "stream",
     "text": [
      "Вектор P:\n"
     ]
    },
    {
     "data": {
      "text/latex": [
       "$\\displaystyle \\left[\\begin{matrix}\\frac{479}{161} & \\frac{492}{161} & - \\frac{156}{161}\\end{matrix}\\right]$"
      ],
      "text/plain": [
       "⎡479  492  -156 ⎤\n",
       "⎢───  ───  ─────⎥\n",
       "⎣161  161   161 ⎦"
      ]
     },
     "execution_count": 9,
     "metadata": {},
     "output_type": "execute_result"
    }
   ],
   "source": [
    "p = g_T @ D_1\n",
    "print(\"Вектор P:\")\n",
    "p"
   ]
  }
 ],
 "metadata": {
  "kernelspec": {
   "display_name": "Python 3",
   "language": "python",
   "name": "python3"
  },
  "language_info": {
   "codemirror_mode": {
    "name": "ipython",
    "version": 3
   },
   "file_extension": ".py",
   "mimetype": "text/x-python",
   "name": "python",
   "nbconvert_exporter": "python",
   "pygments_lexer": "ipython3",
   "version": "3.12.2"
  }
 },
 "nbformat": 4,
 "nbformat_minor": 2
}
