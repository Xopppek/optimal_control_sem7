{
 "cells": [
  {
   "cell_type": "code",
   "execution_count": 46,
   "metadata": {},
   "outputs": [],
   "source": [
    "import numpy as np\n",
    "import sympy as sp\n",
    "from latex import *\n",
    "sp.init_printing() "
   ]
  },
  {
   "cell_type": "code",
   "execution_count": 47,
   "metadata": {},
   "outputs": [],
   "source": [
    "latex_A = r\"\"\"\n",
    "    \n",
    "    \\begin{pmatrix}\n",
    "    -4 & -8 & -8\\\\1 & 5 & 9\\\\-3 & -8 & -9\\\\\n",
    "    \\end{pmatrix}\n",
    "  \n",
    "\"\"\"\n",
    "\n",
    "latex_B = r\"\"\"\n",
    "    \n",
    "    \\begin{pmatrix}\n",
    "    0 & -7\\\\9 & 5\\\\-8 & -2\\\\\n",
    "    \\end{pmatrix}\n",
    "  \n",
    "\"\"\"\n",
    "\n",
    "latex_lambd =r\"\"\"\n",
    "    \n",
    "    \\begin{pmatrix}\n",
    "    -6\\\\-6\\\\-7\\\\\n",
    "    \\end{pmatrix}\n",
    "  \n",
    "\"\"\"\n",
    "\n",
    "latex_H = r\"\"\"\n",
    "   \n",
    "    \\begin{pmatrix}\n",
    "    1 & 0 & 0\\\\0 & 0 & 1\\\\\n",
    "    \\end{pmatrix}\n",
    "  \n",
    "\"\"\"\n",
    "\n",
    "A = latex_to_sympy_matrix(latex_A)\n",
    "B = latex_to_sympy_matrix(latex_B)\n",
    "lambd = latex_to_sympy_matrix(latex_lambd)\n",
    "H = latex_to_sympy_matrix(latex_H)"
   ]
  },
  {
   "cell_type": "code",
   "execution_count": 48,
   "metadata": {},
   "outputs": [
    {
     "name": "stdout",
     "output_type": "stream",
     "text": [
      "Матрица управляемости:\n",
      "\\begin{pmatrix}0 & -7 & -8 & 4 & 248 & -8\\\\9 & 5 & -27 & 0 & -143 & -5\\\\-8 & -2 & 0 & -1 & 240 & -3\\end{pmatrix}\n"
     ]
    },
    {
     "data": {
      "text/latex": [
       "$\\displaystyle \\left[\\begin{matrix}0 & -7 & -8 & 4 & 248 & -8\\\\9 & 5 & -27 & 0 & -143 & -5\\\\-8 & -2 & 0 & -1 & 240 & -3\\end{matrix}\\right]$"
      ],
      "text/plain": [
       "⎡0   -7  -8   4   248   -8⎤\n",
       "⎢                         ⎥\n",
       "⎢9   5   -27  0   -143  -5⎥\n",
       "⎢                         ⎥\n",
       "⎣-8  -2   0   -1  240   -3⎦"
      ]
     },
     "execution_count": 48,
     "metadata": {},
     "output_type": "execute_result"
    }
   ],
   "source": [
    "S = B.row_join(A @ B).row_join(A @ A @ B)\n",
    "print(\"Матрица управляемости:\")\n",
    "print(fixed_latex(S))\n",
    "S"
   ]
  },
  {
   "cell_type": "markdown",
   "metadata": {},
   "source": [
    "Опять считается определитель неквадратной матрицы... (левый минор на самом деле, ранг просто проверяем)"
   ]
  },
  {
   "cell_type": "code",
   "execution_count": 49,
   "metadata": {},
   "outputs": [
    {
     "name": "stdout",
     "output_type": "stream",
     "text": [
      "Определитель матрицы управляемости det(S) =  -1688\n",
      "Система управляема\n"
     ]
    }
   ],
   "source": [
    "detS = S[:, :3].det()\n",
    "print(\"Определитель матрицы управляемости det(S) = \", detS)\n",
    "print(\"Система управляема\") if detS != 0 else print(\"Система не управляема (или управляема, проверьте остальные миноры :3)\")"
   ]
  },
  {
   "cell_type": "markdown",
   "metadata": {},
   "source": [
    "Почему тут резко начали просить в строке? А вот черт его знает"
   ]
  },
  {
   "cell_type": "code",
   "execution_count": 50,
   "metadata": {},
   "outputs": [
    {
     "name": "stdout",
     "output_type": "stream",
     "text": [
      "Коэффициенты характеристического полинома разомкнутой системы:\n",
      "\\begin{pmatrix}20 & 27 & 8\\end{pmatrix}\n"
     ]
    },
    {
     "data": {
      "text/latex": [
       "$\\displaystyle \\left[\\begin{matrix}20 & 27 & 8\\end{matrix}\\right]$"
      ],
      "text/plain": [
       "[20  27  8]"
      ]
     },
     "execution_count": 50,
     "metadata": {},
     "output_type": "execute_result"
    }
   ],
   "source": [
    "c = A.charpoly().all_coeffs()\n",
    "c = sp.Matrix(np.flip(c[1:]).reshape(1, -1))\n",
    "print(\"Коэффициенты характеристического полинома разомкнутой системы:\")\n",
    "print(fixed_latex(c))\n",
    "c"
   ]
  },
  {
   "cell_type": "code",
   "execution_count": 51,
   "metadata": {},
   "outputs": [
    {
     "name": "stdout",
     "output_type": "stream",
     "text": [
      "Коэффициенты характеристического полинома замкнутой системы:\n",
      "\\begin{pmatrix}252 & 120 & 19\\end{pmatrix}\n"
     ]
    },
    {
     "data": {
      "text/latex": [
       "$\\displaystyle \\left[\\begin{matrix}252 & 120 & 19\\end{matrix}\\right]$"
      ],
      "text/plain": [
       "[252  120  19]"
      ]
     },
     "execution_count": 51,
     "metadata": {},
     "output_type": "execute_result"
    }
   ],
   "source": [
    "sigma_1 = np.sum(lambd)\n",
    "sigma_2 = lambd[0] * lambd[1] + lambd[0] * lambd[2] + lambd[1] * lambd[2]\n",
    "sigma_3 = np.prod(lambd)\n",
    "\n",
    "cx = np.zeros(3, dtype=int)\n",
    "cx[0] = sigma_3 * (-1) ** (3 - 0)\n",
    "cx[1] = sigma_2 * (-1) ** (3 - 1)\n",
    "cx[2] = sigma_1 * (-1) ** (3 - 2)\n",
    "\n",
    "cx = sp.Matrix(cx.reshape(1, -1))\n",
    "\n",
    "print(\"Коэффициенты характеристического полинома замкнутой системы:\")\n",
    "print(fixed_latex(cx))\n",
    "cx"
   ]
  },
  {
   "cell_type": "code",
   "execution_count": 52,
   "metadata": {},
   "outputs": [
    {
     "name": "stdout",
     "output_type": "stream",
     "text": [
      "Вектор r:\n",
      "\\begin{pmatrix}\\frac{91}{760}\\\\1\\end{pmatrix}\n"
     ]
    },
    {
     "data": {
      "text/latex": [
       "$\\displaystyle \\left[\\begin{matrix}\\frac{91}{760}\\\\1\\end{matrix}\\right]$"
      ],
      "text/plain": [
       "⎡ 91⎤\n",
       "⎢───⎥\n",
       "⎢760⎥\n",
       "⎢   ⎥\n",
       "⎣ 1 ⎦"
      ]
     },
     "execution_count": 52,
     "metadata": {},
     "output_type": "execute_result"
    }
   ],
   "source": [
    "r1 = sp.symbols('r1')\n",
    "r = sp.Matrix([r1, 1])\n",
    "b = B @ r\n",
    "d3 = b\n",
    "d2 = A @ d3 + c[2] * b\n",
    "d1 = A @ d2 + c[1] * b\n",
    "D = np.hstack((d1, d2, d3))\n",
    "D = sp.Matrix(D)\n",
    "DTHT = D.T @ H.T\n",
    "n2, n3 = sp.symbols('n2 n3')\n",
    "LHS = sp.Matrix([[1, n2, n3]]) @ DTHT\n",
    "N = sp.Matrix([1]).col_join(sp.Matrix(list(sp.solve(LHS, n2, n3).values())))\n",
    "rs_dict = sp.solve((c - cx) @ N, r1)\n",
    "r = r.subs(rs_dict)\n",
    "print(\"Вектор r:\")\n",
    "print(fixed_latex(r))\n",
    "r"
   ]
  },
  {
   "cell_type": "code",
   "execution_count": 53,
   "metadata": {},
   "outputs": [
    {
     "name": "stdout",
     "output_type": "stream",
     "text": [
      "D^T*H^T:\n",
      "\\begin{pmatrix}- \\frac{13582}{95} & - \\frac{5902}{95}\\\\- \\frac{5031}{95} & - \\frac{2343}{95}\\\\-7 & - \\frac{281}{95}\\end{pmatrix}\n"
     ]
    },
    {
     "data": {
      "text/latex": [
       "$\\displaystyle \\left[\\begin{matrix}- \\frac{13582}{95} & - \\frac{5902}{95}\\\\- \\frac{5031}{95} & - \\frac{2343}{95}\\\\-7 & - \\frac{281}{95}\\end{matrix}\\right]$"
      ],
      "text/plain": [
       "⎡-13582   -5902 ⎤\n",
       "⎢───────  ──────⎥\n",
       "⎢   95      95  ⎥\n",
       "⎢               ⎥\n",
       "⎢-5031    -2343 ⎥\n",
       "⎢──────   ──────⎥\n",
       "⎢  95       95  ⎥\n",
       "⎢               ⎥\n",
       "⎢         -281  ⎥\n",
       "⎢  -7     ───── ⎥\n",
       "⎣           95  ⎦"
      ]
     },
     "execution_count": 53,
     "metadata": {},
     "output_type": "execute_result"
    }
   ],
   "source": [
    "DTHT = DTHT.subs(rs_dict)\n",
    "print(\"D^T*H^T:\")\n",
    "print(fixed_latex(DTHT))\n",
    "DTHT"
   ]
  },
  {
   "cell_type": "code",
   "execution_count": 54,
   "metadata": {},
   "outputs": [
    {
     "name": "stdout",
     "output_type": "stream",
     "text": [
      "Матрица V:\n",
      "\\begin{pmatrix}- \\frac{1425}{6016} & \\frac{25745}{6016}\\end{pmatrix}\n"
     ]
    },
    {
     "data": {
      "text/latex": [
       "$\\displaystyle \\left[\\begin{matrix}- \\frac{1425}{6016} & \\frac{25745}{6016}\\end{matrix}\\right]$"
      ],
      "text/plain": [
       "⎡-1425   25745⎤\n",
       "⎢──────  ─────⎥\n",
       "⎣ 6016    6016⎦"
      ]
     },
     "execution_count": 54,
     "metadata": {},
     "output_type": "execute_result"
    }
   ],
   "source": [
    "q1, q2 = sp.symbols('q1 q2')\n",
    "V = sp.Matrix([q1, q2])\n",
    "V = sp.Matrix(list(sp.solve(DTHT @ V - (c - cx).T, (q1, q2)).values())).T\n",
    "print(\"Матрица V:\")\n",
    "print(fixed_latex(V))\n",
    "V"
   ]
  },
  {
   "cell_type": "code",
   "execution_count": 55,
   "metadata": {},
   "outputs": [
    {
     "name": "stdout",
     "output_type": "stream",
     "text": [
      "Матрица управления P\n",
      "\\begin{pmatrix}- \\frac{1365}{48128} & \\frac{24661}{48128}\\\\- \\frac{1425}{6016} & \\frac{25745}{6016}\\end{pmatrix}\n"
     ]
    },
    {
     "data": {
      "text/latex": [
       "$\\displaystyle \\left[\\begin{matrix}- \\frac{1365}{48128} & \\frac{24661}{48128}\\\\- \\frac{1425}{6016} & \\frac{25745}{6016}\\end{matrix}\\right]$"
      ],
      "text/plain": [
       "⎡-1365   24661⎤\n",
       "⎢──────  ─────⎥\n",
       "⎢48128   48128⎥\n",
       "⎢             ⎥\n",
       "⎢-1425   25745⎥\n",
       "⎢──────  ─────⎥\n",
       "⎣ 6016    6016⎦"
      ]
     },
     "execution_count": 55,
     "metadata": {},
     "output_type": "execute_result"
    }
   ],
   "source": [
    "P = r @ V\n",
    "print(\"Матрица управления P\")\n",
    "print(fixed_latex(P))\n",
    "P"
   ]
  }
 ],
 "metadata": {
  "kernelspec": {
   "display_name": "Python 3",
   "language": "python",
   "name": "python3"
  },
  "language_info": {
   "codemirror_mode": {
    "name": "ipython",
    "version": 3
   },
   "file_extension": ".py",
   "mimetype": "text/x-python",
   "name": "python",
   "nbconvert_exporter": "python",
   "pygments_lexer": "ipython3",
   "version": "3.12.2"
  }
 },
 "nbformat": 4,
 "nbformat_minor": 2
}
