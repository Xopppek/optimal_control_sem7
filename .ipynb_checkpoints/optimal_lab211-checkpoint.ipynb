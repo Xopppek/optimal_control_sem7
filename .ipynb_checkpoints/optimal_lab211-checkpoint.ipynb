{
 "cells": [
  {
   "cell_type": "code",
   "execution_count": 88,
   "metadata": {},
   "outputs": [],
   "source": [
    "import numpy as np\n",
    "import sympy as sp\n",
    "from latex import *\n",
    "sp.init_printing() "
   ]
  },
  {
   "cell_type": "markdown",
   "metadata": {},
   "source": [
    "Задаем значения из своего варианта"
   ]
  },
  {
   "cell_type": "code",
   "execution_count": 89,
   "metadata": {},
   "outputs": [],
   "source": [
    "latex_A = r\"\"\"\n",
    "    \n",
    "    \\begin{pmatrix}\n",
    "    -6 & 6 & 1\\\\0 & 3 & -7\\\\0 & 9 & 5\\\\\n",
    "    \\end{pmatrix}\n",
    "  \n",
    "\"\"\"\n",
    "\n",
    "latex_B = r\"\"\"\n",
    "    \n",
    "    \\begin{pmatrix}\n",
    "    2\\\\6\\\\-10\\\\\n",
    "    \\end{pmatrix}\n",
    "  \n",
    "\"\"\"\n",
    "\n",
    "latex_lambd =r\"\"\"\n",
    "    \n",
    "    \\begin{pmatrix}\n",
    "    -5\\\\-6\\\\-4\\\\\n",
    "    \\end{pmatrix}\n",
    "  \n",
    "\"\"\"\n",
    "\n",
    "latex_H = r\"\"\"\n",
    "    \n",
    "    \\begin{pmatrix}\n",
    "    0 & 0 & 1\\\\0 & 1 & 1\\\\\n",
    "    \\end{pmatrix}\n",
    "  \n",
    "\"\"\"\n",
    "\n",
    "A = latex_to_sympy_matrix(latex_A)\n",
    "B = latex_to_sympy_matrix(latex_B)\n",
    "lambd = latex_to_sympy_matrix(latex_lambd)\n",
    "H = latex_to_sympy_matrix(latex_H)"
   ]
  },
  {
   "cell_type": "code",
   "execution_count": 90,
   "metadata": {},
   "outputs": [
    {
     "name": "stdout",
     "output_type": "stream",
     "text": [
      "Матрица управляемости:\n",
      "\\begin{pmatrix}2 & 14 & 448\\\\6 & 88 & 236\\\\-10 & 4 & 812\\end{pmatrix}\n"
     ]
    },
    {
     "data": {
      "text/latex": [
       "$\\displaystyle \\left[\\begin{matrix}2 & 14 & 448\\\\6 & 88 & 236\\\\-10 & 4 & 812\\end{matrix}\\right]$"
      ],
      "text/plain": [
       "⎡ 2   14  448⎤\n",
       "⎢            ⎥\n",
       "⎢ 6   88  236⎥\n",
       "⎢            ⎥\n",
       "⎣-10  4   812⎦"
      ]
     },
     "execution_count": 90,
     "metadata": {},
     "output_type": "execute_result"
    }
   ],
   "source": [
    "S = B.row_join(A @ B).row_join(A @ A @ B)\n",
    "print(\"Матрица управляемости:\")\n",
    "print(fixed_latex(S))\n",
    "S"
   ]
  },
  {
   "cell_type": "code",
   "execution_count": 91,
   "metadata": {},
   "outputs": [
    {
     "name": "stdout",
     "output_type": "stream",
     "text": [
      "Определитель матрицы управляемости det(S) =  444768\n",
      "Система управляема\n"
     ]
    }
   ],
   "source": [
    "detS = S.det()\n",
    "print(\"Определитель матрицы управляемости det(S) = \", detS)\n",
    "print(\"Система управляема\") if detS != 0 else print(\"Система не управляема\")"
   ]
  },
  {
   "cell_type": "code",
   "execution_count": 92,
   "metadata": {},
   "outputs": [
    {
     "name": "stdout",
     "output_type": "stream",
     "text": [
      "Коэффициенты характеристического полинома разомкнутой системы:\n",
      "\\begin{pmatrix}468\\\\30\\\\-2\\end{pmatrix}\n"
     ]
    },
    {
     "data": {
      "text/latex": [
       "$\\displaystyle \\left[\\begin{matrix}468\\\\30\\\\-2\\end{matrix}\\right]$"
      ],
      "text/plain": [
       "⎡468⎤\n",
       "⎢   ⎥\n",
       "⎢30 ⎥\n",
       "⎢   ⎥\n",
       "⎣-2 ⎦"
      ]
     },
     "execution_count": 92,
     "metadata": {},
     "output_type": "execute_result"
    }
   ],
   "source": [
    "c = A.charpoly().all_coeffs()\n",
    "c = sp.Matrix(np.flip(c[1:]).reshape((-1, 1)))\n",
    "print(\"Коэффициенты характеристического полинома разомкнутой системы:\")\n",
    "print(fixed_latex(c))\n",
    "c"
   ]
  },
  {
   "cell_type": "code",
   "execution_count": 93,
   "metadata": {},
   "outputs": [
    {
     "name": "stdout",
     "output_type": "stream",
     "text": [
      "Коэффициенты характеристического полинома замкнутой системы:\n",
      "\\begin{pmatrix}120\\\\74\\\\15\\end{pmatrix}\n"
     ]
    },
    {
     "data": {
      "text/latex": [
       "$\\displaystyle \\left[\\begin{matrix}120\\\\74\\\\15\\end{matrix}\\right]$"
      ],
      "text/plain": [
       "⎡120⎤\n",
       "⎢   ⎥\n",
       "⎢74 ⎥\n",
       "⎢   ⎥\n",
       "⎣15 ⎦"
      ]
     },
     "execution_count": 93,
     "metadata": {},
     "output_type": "execute_result"
    }
   ],
   "source": [
    "sigma_1 = np.sum(lambd)\n",
    "sigma_2 = lambd[0] * lambd[1] + lambd[0] * lambd[2] + lambd[1] * lambd[2]\n",
    "sigma_3 = np.prod(lambd)\n",
    "\n",
    "cx = np.zeros(3, dtype=int)\n",
    "cx[0] = sigma_3 * (-1) ** (3 - 0)\n",
    "cx[1] = sigma_2 * (-1) ** (3 - 1)\n",
    "cx[2] = sigma_1 * (-1) ** (3 - 2)\n",
    "\n",
    "cx = sp.Matrix(cx.reshape((-1, 1)))\n",
    "\n",
    "print(\"Коэффициенты характеристического полинома замкнутой системы:\")\n",
    "print(fixed_latex(cx))\n",
    "cx"
   ]
  },
  {
   "cell_type": "code",
   "execution_count": 94,
   "metadata": {},
   "outputs": [
    {
     "name": "stdout",
     "output_type": "stream",
     "text": [
      "D^TH^T:\n",
      "\\begin{pmatrix}504 & 744\\\\24 & 100\\\\-10 & -4\\end{pmatrix}\n"
     ]
    },
    {
     "data": {
      "text/latex": [
       "$\\displaystyle \\left[\\begin{matrix}504 & 744\\\\24 & 100\\\\-10 & -4\\end{matrix}\\right]$"
      ],
      "text/plain": [
       "⎡504  744⎤\n",
       "⎢        ⎥\n",
       "⎢24   100⎥\n",
       "⎢        ⎥\n",
       "⎣-10  -4 ⎦"
      ]
     },
     "execution_count": 94,
     "metadata": {},
     "output_type": "execute_result"
    }
   ],
   "source": [
    "d3 = B\n",
    "d2 = A @ d3 + c[2] * B\n",
    "d1 = A @ d2 + c[1] * B\n",
    "D = np.hstack((d1, d2, d3))\n",
    "D = sp.Matrix(D)\n",
    "DTHT = D.T @ H.T\n",
    "print(\"D^TH^T:\")\n",
    "print(fixed_latex(DTHT))\n",
    "DTHT"
   ]
  },
  {
   "cell_type": "code",
   "execution_count": 95,
   "metadata": {},
   "outputs": [
    {
     "name": "stdout",
     "output_type": "stream",
     "text": [
      "Условие существования решения выполняется\n"
     ]
    }
   ],
   "source": [
    "n2, n3 = sp.symbols('n2 n3')\n",
    "LHS = sp.Matrix([[1, n2, n3]]) @ DTHT\n",
    "N = sp.Matrix([1]).col_join(sp.Matrix(list(sp.solve(LHS, n2, n3).values())))\n",
    "if ((c - cx).T @ N).equals(sp.zeros(1)):\n",
    "    print(\"Условие существования решения выполняется\")\n",
    "else:\n",
    "    print(\"Условие существования решения не выполняется\")"
   ]
  },
  {
   "cell_type": "code",
   "execution_count": 96,
   "metadata": {},
   "outputs": [
    {
     "name": "stdout",
     "output_type": "stream",
     "text": [
      "Матрица G:\n",
      "\\begin{pmatrix}\\frac{469}{226} & - \\frac{106}{113}\\end{pmatrix}\n"
     ]
    },
    {
     "data": {
      "text/latex": [
       "$\\displaystyle \\left[\\begin{matrix}\\frac{469}{226} & - \\frac{106}{113}\\end{matrix}\\right]$"
      ],
      "text/plain": [
       "⎡469  -106 ⎤\n",
       "⎢───  ─────⎥\n",
       "⎣226   113 ⎦"
      ]
     },
     "execution_count": 96,
     "metadata": {},
     "output_type": "execute_result"
    }
   ],
   "source": [
    "g1, g2 = sp.symbols('g1 g2')\n",
    "G = sp.Matrix([g1, g2])\n",
    "G = sp.Matrix(list(sp.solve(DTHT * G - (c - cx), (g1, g2)).values())).T\n",
    "print(\"Матрица G:\")\n",
    "print(fixed_latex(G))\n",
    "G"
   ]
  }
 ],
 "metadata": {
  "kernelspec": {
   "display_name": "Python 3",
   "language": "python",
   "name": "python3"
  },
  "language_info": {
   "codemirror_mode": {
    "name": "ipython",
    "version": 3
   },
   "file_extension": ".py",
   "mimetype": "text/x-python",
   "name": "python",
   "nbconvert_exporter": "python",
   "pygments_lexer": "ipython3",
   "version": "3.12.2"
  }
 },
 "nbformat": 4,
 "nbformat_minor": 2
}
